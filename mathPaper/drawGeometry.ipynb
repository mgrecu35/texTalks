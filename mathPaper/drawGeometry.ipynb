{
 "cells": [
  {
   "cell_type": "code",
   "execution_count": 1,
   "metadata": {},
   "outputs": [
    {
     "data": {
      "image/svg+xml": [
       "<?xml version=\"1.0\" encoding=\"UTF-8\"?>\n",
       "<svg xmlns=\"http://www.w3.org/2000/svg\" xmlns:xlink=\"http://www.w3.org/1999/xlink\"\n",
       "     width=\"400\" height=\"200\" viewBox=\"-100.0 -50.0 200 100\">\n",
       "<defs>\n",
       "<path d=\"M-10,-20 C30,10,30,-50,70,-20\" stroke-width=\"2\" stroke=\"lime\" fill=\"black\" fill-opacity=\"0.2\" id=\"CAZ0YEOK0\" />\n",
       "<marker markerWidth=\"4.0\" markerHeight=\"4.04\" viewBox=\"-0.1 -0.51 1.0 1.01\" orient=\"auto\" id=\"CAZ0YEOK1\">\n",
       "<path d=\"M-0.1,0.5 L-0.1,-0.5 L0.9,0 Z\" fill=\"red\" />\n",
       "</marker>\n",
       "</defs>\n",
       "<path d=\"M-80,45 L70,49 L95,-49 L-90,-40\" fill=\"#eeee00\" stroke=\"black\" />\n",
       "<rect x=\"-80\" y=\"-50\" width=\"40\" height=\"50\" fill=\"#1248ff\">\n",
       "<title>Our first rectangle</title>\n",
       "</rect>\n",
       "<circle cx=\"-40\" cy=\"10\" r=\"30\" fill=\"red\" stroke-width=\"2\" stroke=\"black\" />\n",
       "<use xlink:href=\"#CAZ0YEOK0\" />\n",
       "<text x=\"-10\" y=\"-35\" font-size=\"8\" fill=\"blue\">Basic text</text>\n",
       "<text font-size=\"8\" text-anchor=\"start\"><textPath xlink:href=\"#CAZ0YEOK0\" startOffset=\"0\">\n",
       "<tspan dy=\"0em\">Path text</tspan>\n",
       "</textPath></text>\n",
       "<g>\n",
       "<text font-size=\"8\" text-anchor=\"end\"><textPath xlink:href=\"#CAZ0YEOK0\" startOffset=\"100%\">\n",
       "<tspan dy=\"0.0em\" dx=\"-1\">Multi-line</tspan>\n",
       "</textPath></text>\n",
       "<text font-size=\"8\" text-anchor=\"end\"><textPath xlink:href=\"#CAZ0YEOK0\" startOffset=\"100%\">\n",
       "<tspan dy=\"1.0em\" dx=\"-1\">text</tspan>\n",
       "</textPath></text>\n",
       "</g>\n",
       "<circle cx=\"60\" cy=\"20\" r=\"20\" stroke-dasharray=\"73.30382858376184 52.35987755982988\" stroke-dashoffset=\"-31.41592653589793\" stroke=\"red\" stroke-width=\"5\" fill=\"red\" fill-opacity=\"0.2\" />\n",
       "<path d=\"M60.0,40.0 A20,20,0,1,1,70.0,2.679491924311229\" stroke=\"green\" stroke-width=\"3\" fill=\"none\" />\n",
       "<path d=\"M70.0,2.679491924311229 A20,20,0,1,0,60.0,40.0\" stroke=\"blue\" stroke-width=\"1\" fill=\"black\" fill-opacity=\"0.3\" />\n",
       "<path d=\"M20,40 L20,27 L0,20\" stroke=\"red\" stroke-width=\"2\" fill=\"none\" marker-end=\"url(#CAZ0YEOK1)\" />\n",
       "<path d=\"M30,20 L0,10\" stroke=\"red\" stroke-width=\"2\" fill=\"none\" marker-end=\"url(#CAZ0YEOK1)\" />\n",
       "</svg>"
      ],
      "text/plain": [
       "<drawsvg.drawing.Drawing at 0x103f12370>"
      ]
     },
     "execution_count": 1,
     "metadata": {},
     "output_type": "execute_result"
    }
   ],
   "source": [
    "#!pip install drawsvg\n",
    "import drawsvg as draw\n",
    "\n",
    "d = draw.Drawing(200, 100, origin='center')\n",
    "\n",
    "# Draw an irregular polygon\n",
    "d.append(draw.Lines(-80, 45,\n",
    "                     70, 49,\n",
    "                     95, -49,\n",
    "                    -90, -40,\n",
    "                    close=False,\n",
    "            fill='#eeee00',\n",
    "            stroke='black'))\n",
    "\n",
    "# Draw a rectangle\n",
    "r = draw.Rectangle(-80, -50, 40, 50, fill='#1248ff')\n",
    "r.append_title(\"Our first rectangle\")  # Add a tooltip\n",
    "d.append(r)\n",
    "\n",
    "# Draw a circle\n",
    "d.append(draw.Circle(-40, 10, 30,\n",
    "        fill='red', stroke_width=2, stroke='black'))\n",
    "\n",
    "# Draw an arbitrary path (a triangle in this case)\n",
    "p = draw.Path(stroke_width=2, stroke='lime', fill='black', fill_opacity=0.2)\n",
    "p.M(-10, -20)  # Start path at point (-10, -20)\n",
    "p.C(30, 10, 30, -50, 70, -20)  # Draw a curve to (70, -20)\n",
    "d.append(p)\n",
    "\n",
    "# Draw text\n",
    "d.append(draw.Text('Basic text', 8, -10, -35, fill='blue'))  # 8pt text at (-10, -35)\n",
    "d.append(draw.Text('Path text', 8, path=p, text_anchor='start', line_height=1))\n",
    "d.append(draw.Text(['Multi-line', 'text'], 8, path=p, text_anchor='end', center=True))\n",
    "\n",
    "# Draw multiple circular arcs\n",
    "d.append(draw.ArcLine(60, 20, 20, 60, 270,\n",
    "        stroke='red', stroke_width=5, fill='red', fill_opacity=0.2))\n",
    "d.append(draw.Arc(60, 20, 20, 90, -60, cw=True,\n",
    "        stroke='green', stroke_width=3, fill='none'))\n",
    "d.append(draw.Arc(60, 20, 20, -60, 90, cw=False,\n",
    "        stroke='blue', stroke_width=1, fill='black', fill_opacity=0.3))\n",
    "\n",
    "# Draw arrows\n",
    "arrow = draw.Marker(-0.1, -0.51, 0.9, 0.5, scale=4, orient='auto')\n",
    "arrow.append(draw.Lines(-0.1, 0.5, -0.1, -0.5, 0.9, 0, fill='red', close=True))\n",
    "p = draw.Path(stroke='red', stroke_width=2, fill='none',\n",
    "        marker_end=arrow)  # Add an arrow to the end of a path\n",
    "p.M(20, 40).L(20, 27).L(0, 20)  # Chain multiple path commands\n",
    "d.append(p)\n",
    "d.append(draw.Line(30, 20, 0, 10,\n",
    "        stroke='red', stroke_width=2, fill='none',\n",
    "        marker_end=arrow))  # Add an arrow to the end of a line\n",
    "\n",
    "d.set_pixel_scale(2)  # Set number of pixels per geometry unit\n",
    "#d.set_render_size(400, 200)  # Alternative to set_pixel_scale\n",
    "d.save_svg('example.svg')\n",
    "#d.save_png('example.png')\n",
    "\n",
    "# Display in Jupyter notebook\n",
    "#d.rasterize()  # Display as PNG\n",
    "d  # Display as SVG"
   ]
  },
  {
   "cell_type": "code",
   "execution_count": 10,
   "metadata": {},
   "outputs": [
    {
     "name": "stdout",
     "output_type": "stream",
     "text": [
      "380.9258734895864 123.05543745450375 216.50635094610968 216.50635094610968\n"
     ]
    },
    {
     "data": {
      "image/svg+xml": [
       "<?xml version=\"1.0\" encoding=\"UTF-8\"?>\n",
       "<svg xmlns=\"http://www.w3.org/2000/svg\" xmlns:xlink=\"http://www.w3.org/1999/xlink\"\n",
       "     width=\"400\" height=\"430\" viewBox=\"-200.0 -215.0 400 430\">\n",
       "<defs>\n",
       "</defs>\n",
       "<path d=\"M6.123233995736766e-15,-180.0 L-86.60254037844388,-30.000000000000007\" stroke=\"blue\" stroke-width=\"2\" />\n",
       "<path d=\"M-86.60254037844388,-30.000000000000007 L86.60254037844388,-30.000000000000007\" stroke=\"blue\" stroke-width=\"2\" />\n",
       "<path d=\"M86.60254037844388,-30.000000000000007 L6.123233995736766e-15,-180.0\" stroke=\"blue\" stroke-width=\"2\" />\n",
       "<text x=\"6.123233995736766e-15\" y=\"-192.0\" font-size=\"14\" fill=\"blue\">A</text>\n",
       "<text x=\"-100.60254037844388\" y=\"-30.000000000000007\" font-size=\"14\" fill=\"blue\">B</text>\n",
       "<text x=\"100.60254037844388\" y=\"-30.000000000000007\" font-size=\"14\" fill=\"blue\">C</text>\n",
       "<circle cx=\"21.213203435596427\" cy=\"-58.78679656440357\" r=\"4\" fill=\"red\" />\n",
       "<text x=\"33.21320343559643\" y=\"-58.78679656440357\" font-size=\"14\" fill=\"red\">P</text>\n",
       "<circle cx=\"-108.25317547305485\" cy=\"7.5\" r=\"4\" fill=\"blue\" />\n",
       "<circle cx=\"108.25317547305485\" cy=\"7.5\" r=\"4\" fill=\"blue\" />\n",
       "<path d=\"M6.123233995736766e-15,-180.0 L-108.25317547305485,7.5\" stroke=\"blue\" stroke-width=\"2\" />\n",
       "<path d=\"M6.123233995736766e-15,-180.0 L108.25317547305485,7.5\" stroke=\"blue\" stroke-width=\"2\" />\n",
       "<path d=\"M-108.25317547305485,7.5 L108.25317547305485,7.5\" stroke=\"blue\" stroke-width=\"2\" />\n",
       "<text x=\"-128.25317547305485\" y=\"7.5\" font-size=\"14\" fill=\"blue\">B1</text>\n",
       "<text x=\"122.25317547305485\" y=\"7.5\" font-size=\"14\" fill=\"blue\">C1</text>\n",
       "<circle cx=\"65.6668101416035\" cy=\"195.22312180838622\" r=\"4\" fill=\"red\" />\n",
       "<path d=\"M6.123233995736766e-15,-180.0 L65.6668101416035,195.22312180838622\" stroke=\"red\" stroke-width=\"2\" />\n",
       "<path d=\"M-108.25317547305485,7.5 L65.6668101416035,195.22312180838622\" stroke=\"green\" stroke-width=\"2\" />\n",
       "<path d=\"M108.25317547305485,7.5 L65.6668101416035,195.22312180838622\" stroke=\"green\" stroke-width=\"2\" />\n",
       "<text x=\"77.6668101416035\" y=\"207.22312180838622\" font-size=\"14\" fill=\"red\">P'</text>\n",
       "<path d=\"M-86.60254037844388,-30.000000000000007 L21.213203435596427,-58.78679656440357\" stroke=\"green\" stroke-width=\"2\" />\n",
       "<path d=\"M86.60254037844388,-30.000000000000007 L21.213203435596427,-58.78679656440357\" stroke=\"green\" stroke-width=\"2\" />\n",
       "</svg>"
      ],
      "text/plain": [
       "<drawsvg.drawing.Drawing at 0x104e32760>"
      ]
     },
     "execution_count": 10,
     "metadata": {},
     "output_type": "execute_result"
    }
   ],
   "source": [
    "d = draw.Drawing(400, 430, origin='center')\n",
    "#d.append(draw.Rectangle(0, 0, 200, 200))\n",
    "#d.append(draw.Line(0, 0, 100, 100,stroke='red'))\n",
    "#d.append(draw.Line(100, 100, 200, 200,stroke='blue',stroke_width=2))\n",
    "r=100\n",
    "import numpy as np\n",
    "xc,yc=r*np.cos(-np.pi/6),-80-r*np.sin(-np.pi/6)\n",
    "xa,ya=r*np.cos(np.pi/2),-80-r*np.sin(np.pi/2)\n",
    "xb,yb=-xc,yc\n",
    "d.append(draw.Line(xa,ya,xb,yb,stroke='blue',stroke_width=2))\n",
    "d.append(draw.Line(xb,yb,xc,yc,stroke='blue',stroke_width=2))\n",
    "d.append(draw.Line(xc,yc,xa,ya,stroke='blue',stroke_width=2))\n",
    "d.append(draw.Text('A',14,xa,ya-12,fill='blue'))\n",
    "d.append(draw.Text('B',14,xb-14,yb,fill='blue'))\n",
    "d.append(draw.Text('C',14,xc+14,yc,fill='blue'))\n",
    "theta=-45/180*np.pi\n",
    "r0=30\n",
    "xm,ym=r0*np.cos(theta),-80-r0*np.sin(theta)\n",
    "d.append(draw.Circle(xm,ym,4,fill='red'))\n",
    "d.append(draw.Text('P',14,xm+12,ym,fill='red'))\n",
    "\n",
    "xb1=xa+1.25*(xb-xa)\n",
    "yb1=ya+1.25*(yb-ya)\n",
    "xc1=xa+1.25*(xc-xa)\n",
    "yc1=ya+1.25*(yc-ya)\n",
    "d.append(draw.Circle(xb1,yb1,4,fill='blue'))\n",
    "d.append(draw.Circle(xc1,yc1,4,fill='blue'))\n",
    "d.append(draw.Line(xa,ya,xb1,yb1,stroke='blue',stroke_width=2))\n",
    "d.append(draw.Line(xa,ya,xc1,yc1,stroke='blue',stroke_width=2))\n",
    "d.append(draw.Line(xb1,yb1,xc1,yc1,stroke='blue',stroke_width=2))\n",
    "d.append(draw.Text('B\\'',14,xb1-20,yb1,fill='blue'))\n",
    "d.append(draw.Text('C\\'',14,xc1+14,yc1,fill='blue'))\n",
    "dAB=np.sqrt((xb1-xa)**2+(yb1-ya)**2)\n",
    "dAB1=np.sqrt((xc1-xa)**2+(yc1-ya)**2)\n",
    "k2=dAB*dAB1\n",
    "dAM=np.sqrt((xm-xa)**2+(ym-ya)**2)\n",
    "dAM1=k2/dAM\n",
    "xm1=xa+dAM1*(xm-xa)/dAM\n",
    "ym1=ya+dAM1*(ym-ya)/dAM\n",
    "d.append(draw.Circle(xm1,ym1,4,fill='red'))\n",
    "print(dAM1,dAM,dAB,dAB1)\n",
    "d.append(draw.Line(xa,ya,xm1,ym1,stroke='red',stroke_width=2))\n",
    "d.append(draw.Line(xb1,yb1,xm1,ym1,stroke='green',stroke_width=2))\n",
    "d.append(draw.Line(xc1,yc1,xm1,ym1,stroke='green',stroke_width=2))\n",
    "d.append(draw.Text('P\\'',14,xm1+12,ym1+12,fill='red'))\n",
    "d.append(draw.Line(xb,yb,xm,ym,stroke='green',stroke_width=2))\n",
    "d.append(draw.Line(xc,yc,xm,ym,stroke='green',stroke_width=2))\n",
    "#append borders\n",
    "#d.append(draw.Rectangle(-200,-250,400,500,stroke='black',stroke_width=2, fill_opacity=0.02))\n",
    "d.save_svg('pompeiuTriangle.svg')\n",
    "d.save_png('pompeiuTriangle.png')\n",
    "d\n"
   ]
  },
  {
   "cell_type": "markdown",
   "metadata": {},
   "source": []
  },
  {
   "cell_type": "markdown",
   "metadata": {},
   "source": [
    "p"
   ]
  },
  {
   "cell_type": "code",
   "execution_count": 88,
   "metadata": {},
   "outputs": [
    {
     "name": "stdout",
     "output_type": "stream",
     "text": [
      "90\n",
      "30\n",
      "302.71057451320087 302.71057451320087 302.71057451320087\n"
     ]
    },
    {
     "data": {
      "image/png": "[encoded data removed]",
      "text/plain": [
       "<Figure size 640x480 with 2 Axes>"
      ]
     },
     "metadata": {},
     "output_type": "display_data"
    }
   ],
   "source": [
    "pL=[]\n",
    "thetaL=[]\n",
    "r01=20\n",
    "def heron(a,b,c):\n",
    "    s=(a+b+c)/2\n",
    "    return np.sqrt(s*(s-a)*(s-b)*(s-c))\n",
    "SL=[]\n",
    "for thetai in range(0,360,1):\n",
    "    xmi,ymi=r01*np.cos(thetai/180*np.pi),-80-r01*np.sin(thetai/180*np.pi)\n",
    "    d1=np.sqrt((xmi-xa)**2+(ymi-ya)**2)\n",
    "    d2=np.sqrt((xmi-xb)**2+(ymi-yb)**2)\n",
    "    d3=np.sqrt((xmi-xc)**2+(ymi-yc)**2)\n",
    "    SL.append(heron(d1,d2,d3))\n",
    "    pL.append(d1+d2+d3)\n",
    "    thetaL.append(thetai)\n",
    "\n",
    "import matplotlib.pyplot as plt\n",
    "plt.subplot(2,1,1)\n",
    "plt.plot(thetaL,pL)\n",
    "plt.subplot(2,1,2)\n",
    "plt.plot(thetaL,SL)\n",
    "ind_min=np.argmin(pL)\n",
    "print(thetaL[ind_min])\n",
    "ind_max=np.argmax(pL)\n",
    "print(thetaL[ind_max])\n",
    "print(pL[ind_min],pL[ind_min+120],pL[ind_min+240])"
   ]
  }
 ],
 "metadata": {
  "kernelspec": {
   "display_name": "base",
   "language": "python",
   "name": "python3"
  },
  "language_info": {
   "codemirror_mode": {
    "name": "ipython",
    "version": 3
   },
   "file_extension": ".py",
   "mimetype": "text/x-python",
   "name": "python",
   "nbconvert_exporter": "python",
   "pygments_lexer": "ipython3",
   "version": "3.9.13"
  },
  "orig_nbformat": 4
 },
 "nbformat": 4,
 "nbformat_minor": 2
}
